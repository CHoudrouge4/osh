{
 "cells": [
  {
   "cell_type": "code",
   "execution_count": 213,
   "metadata": {},
   "outputs": [],
   "source": [
    "%matplotlib inline\n",
    "\n",
    "import matplotlib\n",
    "import pandas as pd\n",
    "import numpy as np\n",
    "import matplotlib.pyplot as plt\n",
    "from IPython.display import display, HTML\n",
    "import scipy as sp\n",
    "import csv\n",
    "import io as io\n",
    "import os as os"
   ]
  },
  {
   "cell_type": "code",
   "execution_count": 258,
   "metadata": {},
   "outputs": [],
   "source": [
    "experimentDir = \"plotData/timeout_estimation_sa_2019-02-09_15-42-15\"\n",
    "\n",
    "allData = {}\n",
    "\n",
    "for solverName in os.listdir(experimentDir):\n",
    "    allData[solverName] = {}\n",
    "    dimensions = os.listdir(experimentDir + \"/\" + solverName)\n",
    "    for dimensionDir in sorted(dimensions):\n",
    "        dimension = int(dimensionDir[2:])\n",
    "        exData = allData[solverName][dimension] = {}\n",
    "        exData[\"runs\"] = []\n",
    "        runDir = experimentDir+\"/\"+solverName+\"/\"+dimensionDir\n",
    "        for runData in os.listdir(runDir):\n",
    "            runDataPath = runDir + \"/\" + runData\n",
    "            if runData.startswith(\"run\"):\n",
    "                table = pd.read_csv(runDataPath, names=[\"runtime\",\"cntProbe\",\"merit\"], header=None)\n",
    "                exData[\"runs\"].append(table) \n",
    "            else:\n",
    "                table = pd.read_csv(runDataPath, names=[\"timeout\",\"hitsN\",\"hitRatio\",\"avgT\"], header=None)\n",
    "                exData[\"summary\"] = table"
   ]
  },
  {
   "cell_type": "code",
   "execution_count": 250,
   "metadata": {},
   "outputs": [
    {
     "data": {
      "text/html": [
       "<div>\n",
       "<style scoped>\n",
       "    .dataframe tbody tr th:only-of-type {\n",
       "        vertical-align: middle;\n",
       "    }\n",
       "\n",
       "    .dataframe tbody tr th {\n",
       "        vertical-align: top;\n",
       "    }\n",
       "\n",
       "    .dataframe thead th {\n",
       "        text-align: right;\n",
       "    }\n",
       "</style>\n",
       "<table border=\"1\" class=\"dataframe\">\n",
       "  <thead>\n",
       "    <tr style=\"text-align: right;\">\n",
       "      <th></th>\n",
       "      <th>timeout</th>\n",
       "      <th>hitsN</th>\n",
       "      <th>hitRatio</th>\n",
       "      <th>avgT</th>\n",
       "    </tr>\n",
       "  </thead>\n",
       "  <tbody>\n",
       "    <tr>\n",
       "      <th>0</th>\n",
       "      <td>120000</td>\n",
       "      <td>150</td>\n",
       "      <td>1.0</td>\n",
       "      <td>2261</td>\n",
       "    </tr>\n",
       "  </tbody>\n",
       "</table>\n",
       "</div>"
      ],
      "text/plain": [
       "   timeout  hitsN  hitRatio  avgT\n",
       "0   120000    150       1.0  2261"
      ]
     },
     "metadata": {},
     "output_type": "display_data"
    }
   ],
   "source": [
    "concreteRun = allData[\"sa\"][23]\n",
    "sampleRun = concreteRun[\"runs\"][0]\n",
    "display(concreteRun[\"summary\"])"
   ]
  },
  {
   "cell_type": "code",
   "execution_count": 251,
   "metadata": {},
   "outputs": [
    {
     "name": "stdout",
     "output_type": "stream",
     "text": [
      "0.9175838660110536\n",
      "0.006188323571261642\n",
      "0.9601856043115694\n"
     ]
    },
    {
     "data": {
      "text/plain": [
       "<matplotlib.axes._subplots.AxesSubplot at 0x7f3a60bc0ba8>"
      ]
     },
     "execution_count": 251,
     "metadata": {},
     "output_type": "execute_result"
    },
    {
     "data": {
      "image/png": "[encoded data removed]",
      "text/plain": [
       "<Figure size 432x288 with 1 Axes>"
      ]
     },
     "metadata": {
      "needs_background": "light"
     },
     "output_type": "display_data"
    }
   ],
   "source": [
    "# Sample correlation\n",
    "\n",
    "corrTable = pd.DataFrame()\n",
    "for table in concreteRun[\"runs\"]:\n",
    "    corrVal = table[\"runtime\"].corr(sampleRun[\"cntProbe\"])\n",
    "    corrTable = corrTable.append({\"corr\": corrVal}, ignore_index = True)\n",
    "\n",
    "print(corrTable[\"corr\"].mean())\n",
    "print(corrTable[\"corr\"].var())\n",
    "print(corrTable[\"corr\"].quantile(q=0.6))\n",
    "corrTable[\"corr\"].hist(bins=30)"
   ]
  },
  {
   "cell_type": "code",
   "execution_count": 252,
   "metadata": {},
   "outputs": [
    {
     "data": {
      "text/html": [
       "<div>\n",
       "<style scoped>\n",
       "    .dataframe tbody tr th:only-of-type {\n",
       "        vertical-align: middle;\n",
       "    }\n",
       "\n",
       "    .dataframe tbody tr th {\n",
       "        vertical-align: top;\n",
       "    }\n",
       "\n",
       "    .dataframe thead th {\n",
       "        text-align: right;\n",
       "    }\n",
       "</style>\n",
       "<table border=\"1\" class=\"dataframe\">\n",
       "  <thead>\n",
       "    <tr style=\"text-align: right;\">\n",
       "      <th></th>\n",
       "      <th>mean</th>\n",
       "      <th>q05</th>\n",
       "      <th>q075</th>\n",
       "      <th>q095</th>\n",
       "      <th>var</th>\n",
       "    </tr>\n",
       "  </thead>\n",
       "  <tbody>\n",
       "    <tr>\n",
       "      <th>mean</th>\n",
       "      <td>0.907804</td>\n",
       "      <td>0.936294</td>\n",
       "      <td>0.984019</td>\n",
       "      <td>0.996517</td>\n",
       "      <td>0.008739</td>\n",
       "    </tr>\n",
       "  </tbody>\n",
       "</table>\n",
       "</div>"
      ],
      "text/plain": [
       "          mean       q05      q075      q095       var\n",
       "mean  0.907804  0.936294  0.984019  0.996517  0.008739"
      ]
     },
     "metadata": {},
     "output_type": "display_data"
    }
   ],
   "source": [
    "# Average correlation over one run\n",
    "\n",
    "corrTable = pd.DataFrame()\n",
    "for n, data in allData[\"sa\"].items():\n",
    "    for table in data[\"runs\"]:\n",
    "        corrVal = table[\"runtime\"].corr(sampleRun[\"cntProbe\"])\n",
    "        corrTable = corrTable.append({n: corrVal}, ignore_index = True)\n",
    "\n",
    "resTable = pd.DataFrame()\n",
    "for n in corrTable:   \n",
    "    resTable = resTable.append({ \"n\": n\n",
    "                      , \"mean\": corrTable[n].mean()\n",
    "                      , \"var\": corrTable[n].var()\n",
    "                      , \"q05\": corrTable[n].quantile(q=0.5)\n",
    "                      , \"q075\": corrTable[n].quantile(q=0.75)\n",
    "                      , \"q095\": corrTable[n].quantile(q=0.95)}, ignore_index = True)\n",
    "\n",
    "aggTable = resTable.drop(columns=[\"n\"]).agg([\"mean\"])\n",
    "display(aggTable)"
   ]
  },
  {
   "cell_type": "code",
   "execution_count": 260,
   "metadata": {},
   "outputs": [
    {
     "name": "stdout",
     "output_type": "stream",
     "text": [
      "mean [0.0185596  0.27816647]\n",
      "q90 [0.05682258 0.26407334]\n",
      "q95 [0.11593117 0.24229641]\n",
      "q99 [0.27830915 0.21622243]\n"
     ]
    },
    {
     "data": {
      "image/png": "[encoded data removed]",
      "text/plain": [
       "<Figure size 432x288 with 1 Axes>"
      ]
     },
     "metadata": {
      "needs_background": "light"
     },
     "output_type": "display_data"
    }
   ],
   "source": [
    "runtimesTable = pd.DataFrame()\n",
    "for n, data in allData[\"sa\"].items():\n",
    "    runtimes = []\n",
    "    for table in data[\"runs\"]:\n",
    "        runtimes.append(table[\"runtime\"].iloc[-1])\n",
    "    curRow = pd.DataFrame({n:runtimes})\n",
    "    runtimesTable = runtimesTable.join(curRow, how=\"outer\")\n",
    "\n",
    "#display(runtimesTable)\n",
    "#runtimesTable[26].hist(bins=15)\n",
    "#print(runtimesTable[26].quantile(q=0.95)/1000000)\n",
    "\n",
    "tlTable = pd.DataFrame()\n",
    "for n in runtimesTable:\n",
    "    tlTable = tlTable.append({\"n\":n\n",
    "                              , \"mean\": (runtimesTable[n].mean())/1000000\n",
    "                              , \"q90\": (runtimesTable[n].quantile(q=0.90)/1000000)\n",
    "                              , \"q95\": (runtimesTable[n].quantile(q=0.95)/1000000)\n",
    "                              , \"q99\": (runtimesTable[n].quantile(q=0.99)/1000000)\n",
    "                             }, ignore_index=True)\n",
    "\n",
    "    \n",
    "colors = ['blue', 'green', 'red', 'cyan']\n",
    "for qparam, col in zip([\"mean\",\"q90\",\"q95\",\"q99\"],colors):\n",
    "    plt.scatter(tlTable[\"n\"], tlTable[qparam], color=col, label=\"q95\")\n",
    "    (appr,_) = sp.optimize.curve_fit(lambda t,a,b: a*np.exp(b*t), tlTable[\"n\"],tlTable[qparam])#,  p0=(4, 0.1))\n",
    "    print(qparam, appr)\n",
    "    ns = range(15,30)\n",
    "    plt.plot(ns,appr[0]*np.exp(appr[1]*ns), label=(\"fit\"+qparam), color=col)\n",
    "    \n",
    "\n",
    "plt.legend(loc='upper left')    \n",
    "plt.title('Exp timeout fitting')\n",
    "plt.show()"
   ]
  }
 ],
 "metadata": {
  "kernelspec": {
   "display_name": "Python 3",
   "language": "python",
   "name": "python3"
  },
  "language_info": {
   "codemirror_mode": {
    "name": "ipython",
    "version": 3
   },
   "file_extension": ".py",
   "mimetype": "text/x-python",
   "name": "python",
   "nbconvert_exporter": "python",
   "pygments_lexer": "ipython3",
   "version": "3.7.2"
  }
 },
 "nbformat": 4,
 "nbformat_minor": 2
}
