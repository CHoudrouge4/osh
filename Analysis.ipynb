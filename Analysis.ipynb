{
 "cells": [
  {
   "cell_type": "code",
   "execution_count": 23,
   "metadata": {},
   "outputs": [],
   "source": [
    "%matplotlib inline\n",
    "\n",
    "import matplotlib\n",
    "import pandas as pd\n",
    "import numpy as np\n",
    "import matplotlib.pyplot as plt\n",
    "from IPython.display import display, HTML\n",
    "import csv\n",
    "import io as io\n",
    "import os as os"
   ]
  },
  {
   "cell_type": "code",
   "execution_count": 49,
   "metadata": {},
   "outputs": [],
   "source": [
    "experimentDir = \"plotData/timeout_estimation_sa_2019-02-09_00-42-50\"\n",
    "\n",
    "allData = {}\n",
    "\n",
    "for solverName in os.listdir(experimentDir):\n",
    "    allData[solverName] = {}\n",
    "    dimensions = os.listdir(experimentDir + \"/\" + solverName)\n",
    "    for dimensionDir in sorted(dimensions):\n",
    "        dimension = int(dimensionDir[2:])\n",
    "        exData = allData[solverName][dimension] = {}\n",
    "        exData[\"runs\"] = []\n",
    "        runDir = experimentDir+\"/\"+solverName+\"/\"+dimensionDir+\"/\"\n",
    "        for runData in os.listdir(runDir):\n",
    "            runDataPath = runDir + \"/\" + runData\n",
    "            if runData.startswith(\"run\"):\n",
    "                table = pd.read_csv(runDataPath, names=[\"runtime\",\"cntProbe\",\"merit\"], sep=\"\\s+\", header=None)\n",
    "                exData[\"runs\"].append(table) \n",
    "     #       else:\n",
    "      ##          table = pd.read_csv(runDataPath, usecols=[\"timeout hitsN hitRatio avgT\"], header=None)\n",
    "        #        exData[\"summary\"] = table"
   ]
  },
  {
   "cell_type": "code",
   "execution_count": 140,
   "metadata": {},
   "outputs": [],
   "source": [
    "concreteRun = allData[\"sa\"][23]\n",
    "sampleRun = concreteRun[\"runs\"][0]"
   ]
  },
  {
   "cell_type": "code",
   "execution_count": 116,
   "metadata": {},
   "outputs": [
    {
     "name": "stdout",
     "output_type": "stream",
     "text": [
      "0.9088800386684918\n",
      "0.010987617846735265\n",
      "0.9852852212513001\n"
     ]
    },
    {
     "data": {
      "text/plain": [
       "<matplotlib.axes._subplots.AxesSubplot at 0x7f3a60fa7f98>"
      ]
     },
     "execution_count": 116,
     "metadata": {},
     "output_type": "execute_result"
    },
    {
     "data": {
      "image/png": "[encoded data removed]",
      "text/plain": [
       "<Figure size 432x288 with 1 Axes>"
      ]
     },
     "metadata": {
      "needs_background": "light"
     },
     "output_type": "display_data"
    }
   ],
   "source": [
    "# Sample correlation\n",
    "\n",
    "corrTable = pd.DataFrame()\n",
    "for table in concreteRun[\"runs\"]:\n",
    "    corrVal = table[\"runtime\"].corr(sampleRun[\"cntProbe\"])\n",
    "    corrTable = corrTable.append({\"corr\": corrVal}, ignore_index = True)\n",
    "\n",
    "print(corrTable[\"corr\"].mean())\n",
    "print(corrTable[\"corr\"].var())\n",
    "print(corrTable[\"corr\"].quantile(q=0.6))\n",
    "corrTable[\"corr\"].hist(bins=30)"
   ]
  },
  {
   "cell_type": "code",
   "execution_count": 139,
   "metadata": {},
   "outputs": [
    {
     "data": {
      "text/html": [
       "<div>\n",
       "<style scoped>\n",
       "    .dataframe tbody tr th:only-of-type {\n",
       "        vertical-align: middle;\n",
       "    }\n",
       "\n",
       "    .dataframe tbody tr th {\n",
       "        vertical-align: top;\n",
       "    }\n",
       "\n",
       "    .dataframe thead th {\n",
       "        text-align: right;\n",
       "    }\n",
       "</style>\n",
       "<table border=\"1\" class=\"dataframe\">\n",
       "  <thead>\n",
       "    <tr style=\"text-align: right;\">\n",
       "      <th></th>\n",
       "      <th>mean</th>\n",
       "      <th>q05</th>\n",
       "      <th>q075</th>\n",
       "      <th>q095</th>\n",
       "      <th>var</th>\n",
       "    </tr>\n",
       "  </thead>\n",
       "  <tbody>\n",
       "    <tr>\n",
       "      <th>mean</th>\n",
       "      <td>0.890416</td>\n",
       "      <td>0.918796</td>\n",
       "      <td>0.973338</td>\n",
       "      <td>0.997005</td>\n",
       "      <td>0.010131</td>\n",
       "    </tr>\n",
       "  </tbody>\n",
       "</table>\n",
       "</div>"
      ],
      "text/plain": [
       "          mean       q05      q075      q095       var\n",
       "mean  0.890416  0.918796  0.973338  0.997005  0.010131"
      ]
     },
     "metadata": {},
     "output_type": "display_data"
    }
   ],
   "source": [
    "# Average correlation over one run\n",
    "\n",
    "corrTable = pd.DataFrame()\n",
    "for n, data in allData[\"sa\"].items():\n",
    "    for table in data[\"runs\"]:\n",
    "        corrVal = table[\"runtime\"].corr(sampleRun[\"cntProbe\"])\n",
    "        corrTable = corrTable.append({n: corrVal}, ignore_index = True)\n",
    "\n",
    "resTable = pd.DataFrame()\n",
    "for n in corrTable:   \n",
    "    resTable = resTable.append({ \"n\": n\n",
    "                      , \"mean\": corrTable[n].mean()\n",
    "                      , \"var\": corrTable[n].var()\n",
    "                      , \"q05\": corrTable[n].quantile(q=0.5)\n",
    "                      , \"q075\": corrTable[n].quantile(q=0.75)\n",
    "                      , \"q095\": corrTable[n].quantile(q=0.95)}, ignore_index = True)\n",
    "\n",
    "aggTable = resTable.drop(columns=[\"n\"]).agg([\"mean\"])\n",
    "display(aggTable)"
   ]
  }
 ],
 "metadata": {
  "kernelspec": {
   "display_name": "Python 3",
   "language": "python",
   "name": "python3"
  },
  "language_info": {
   "codemirror_mode": {
    "name": "ipython",
    "version": 3
   },
   "file_extension": ".py",
   "mimetype": "text/x-python",
   "name": "python",
   "nbconvert_exporter": "python",
   "pygments_lexer": "ipython3",
   "version": "3.7.2"
  }
 },
 "nbformat": 4,
 "nbformat_minor": 2
}
